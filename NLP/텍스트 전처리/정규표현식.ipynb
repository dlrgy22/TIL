{
 "cells": [
  {
   "cell_type": "markdown",
   "id": "persistent-conflict",
   "metadata": {},
   "source": [
    "파이썬 정규표현식 라이브러리 re를 사용하여 특정 규칙이 있는 텍스트 데이터를 빠르게 정제가능\n",
    "정규표현식 문법 : https://wikidocs.net/21703"
   ]
  },
  {
   "cell_type": "code",
   "execution_count": 6,
   "id": "eight-dublin",
   "metadata": {},
   "outputs": [
    {
     "name": "stdout",
     "output_type": "stream",
     "text": [
      "None\n",
      "<re.Match object; span=(0, 3), match='adc'>\n"
     ]
    }
   ],
   "source": [
    "# . : 한개의 임의의 문자를 나타낸다.\n",
    "import re\n",
    "r = re.compile(\"a.c\") #a(somthing)b 형태\n",
    "print(r.search(\"ac\"))\n",
    "print(r.search(\"adc\"))"
   ]
  },
  {
   "cell_type": "code",
   "execution_count": 7,
   "id": "useful-overview",
   "metadata": {},
   "outputs": [
    {
     "name": "stdout",
     "output_type": "stream",
     "text": [
      "None\n",
      "<re.Match object; span=(0, 3), match='abc'>\n",
      "<re.Match object; span=(0, 2), match='ac'>\n"
     ]
    }
   ],
   "source": [
    "# ? : ?앞의 문자가 존재할 수도 있고 존재하지 않을 수 도있는경우\n",
    "r = re.compile(\"ab?c\") # a(something)b or a(nothing)b\n",
    "print(r.search(\"abbc\"))\n",
    "print(r.search(\"abc\"))\n",
    "print(r.search(\"ac\"))"
   ]
  },
  {
   "cell_type": "code",
   "execution_count": 9,
   "id": "unavailable-strap",
   "metadata": {},
   "outputs": [
    {
     "name": "stdout",
     "output_type": "stream",
     "text": [
      "None\n",
      "<re.Match object; span=(0, 2), match='ac'>\n",
      "<re.Match object; span=(0, 6), match='abbbbc'>\n"
     ]
    }
   ],
   "source": [
    "# * : *앞의 문자가 0개 이상 등장할 경우\n",
    "r = re.compile(\"ab*c\")\n",
    "print(r.search(\"a\"))\n",
    "print(r.search(\"ac\"))\n",
    "print(r.search(\"abbbbc\"))"
   ]
  },
  {
   "cell_type": "code",
   "execution_count": 10,
   "id": "settled-change",
   "metadata": {},
   "outputs": [
    {
     "name": "stdout",
     "output_type": "stream",
     "text": [
      "None\n",
      "None\n",
      "<re.Match object; span=(0, 6), match='abbbbc'>\n"
     ]
    }
   ],
   "source": [
    "# + : +앞의 문자가 1개 이상 등장할 경우\n",
    "r = re.compile(\"ab+c\")\n",
    "print(r.search(\"a\"))\n",
    "print(r.search(\"ac\"))\n",
    "print(r.search(\"abbbbc\"))"
   ]
  },
  {
   "cell_type": "code",
   "execution_count": 11,
   "id": "distributed-istanbul",
   "metadata": {},
   "outputs": [
    {
     "name": "stdout",
     "output_type": "stream",
     "text": [
      "None\n",
      "<re.Match object; span=(0, 1), match='a'>\n"
     ]
    }
   ],
   "source": [
    "# ^ : 시작되는 글자를 지정 ^뒤에 나오는 글자로 시작되는 단어를 찾아낸다\n",
    "r = re.compile(\"^a\")\n",
    "print(r.search(\"bc\"))\n",
    "print(r.search(\"abc\"))"
   ]
  },
  {
   "cell_type": "code",
   "execution_count": 15,
   "id": "silent-disney",
   "metadata": {},
   "outputs": [
    {
     "name": "stdout",
     "output_type": "stream",
     "text": [
      "None\n",
      "<re.Match object; span=(0, 4), match='abbc'>\n",
      "None\n"
     ]
    }
   ],
   "source": [
    "# {숫자} : {숫자} 앞에 있는 단어를 숫자만큼 반복한 것을 나타낸다.\n",
    "r = re.compile(\"ab{2}c\")\n",
    "print(r.search(\"abc\"))\n",
    "print(r.search(\"abbc\"))\n",
    "print(r.search(\"abbbc\"))"
   ]
  },
  {
   "cell_type": "code",
   "execution_count": 16,
   "id": "consolidated-zoning",
   "metadata": {},
   "outputs": [
    {
     "name": "stdout",
     "output_type": "stream",
     "text": [
      "None\n",
      "<re.Match object; span=(0, 4), match='abbc'>\n",
      "<re.Match object; span=(0, 5), match='abbbc'>\n"
     ]
    }
   ],
   "source": [
    "# {숫자,} : {숫자,} 앞에 있는 단어를 숫자 이상만큼 반복\n",
    "r = re.compile(\"ab{2,}c\")\n",
    "print(r.search(\"abc\"))\n",
    "print(r.search(\"abbc\"))\n",
    "print(r.search(\"abbbc\"))"
   ]
  },
  {
   "cell_type": "code",
   "execution_count": 19,
   "id": "ancient-keeping",
   "metadata": {},
   "outputs": [
    {
     "name": "stdout",
     "output_type": "stream",
     "text": [
      "<re.Match object; span=(0, 1), match='a'>\n",
      "None\n",
      "None\n",
      "<re.Match object; span=(0, 1), match='d'>\n"
     ]
    }
   ],
   "source": [
    "# [문자] : []안에 들어있는 문자들 중 한 개의 문자와 매치 \n",
    "# [^문자] : []안에 들어있는 문자들 제외한 모든 문자를 매치\n",
    "r = re.compile(\"[abc]\")\n",
    "print(r.search(\"a\"))\n",
    "print(r.search(\"d\"))\n",
    "r = re.compile(\"[^abc]\")\n",
    "print(r.search(\"a\"))\n",
    "print(r.search(\"d\"))"
   ]
  },
  {
   "cell_type": "code",
   "execution_count": 21,
   "id": "accompanied-foundation",
   "metadata": {},
   "outputs": [
    {
     "name": "stdout",
     "output_type": "stream",
     "text": [
      "<re.Match object; span=(1, 3), match='ab'>\n",
      "None\n"
     ]
    }
   ],
   "source": [
    "# re.match : search는 정규 표현식 전체에 대해서 문자열이 매치하는지를 알아본다면 match는 첫 부분이 매치하는지를 알아본다.\n",
    "r = re.compile(\"ab\")\n",
    "print(r.search(\"bab\"))\n",
    "print(r.match(\"bab\"))"
   ]
  },
  {
   "cell_type": "code",
   "execution_count": 23,
   "id": "metropolitan-enforcement",
   "metadata": {},
   "outputs": [
    {
     "name": "stdout",
     "output_type": "stream",
     "text": [
      "['사과', '딸기', '수박', '메론', '바나나']\n"
     ]
    }
   ],
   "source": [
    "# re.split : 입력된 정규 표현식을 기준으로 문자열을 분리\n",
    "r = re.compile(\" \")\n",
    "text = \"사과 딸기 수박 메론 바나나\"\n",
    "print(r.split(text))"
   ]
  },
  {
   "cell_type": "code",
   "execution_count": 28,
   "id": "charged-hunger",
   "metadata": {},
   "outputs": [
    {
     "data": {
      "text/plain": [
       "['010', '1234', '1234', '30']"
      ]
     },
     "execution_count": 28,
     "metadata": {},
     "output_type": "execute_result"
    }
   ],
   "source": [
    "# re.findall : 정규 표현식과 매치되는 모든 문자열을 리스트로 리턴\n",
    "r = re.compile(\"\\d+\") #숫자 추출\n",
    "text=\"\"\"이름 : 김철수 \n",
    "전화번호 : 010 - 1234 - 1234 \n",
    "나이 : 30 \n",
    "성별 : 남\"\"\"\n",
    "r.findall(text)"
   ]
  },
  {
   "cell_type": "code",
   "execution_count": 32,
   "id": "received-shirt",
   "metadata": {},
   "outputs": [
    {
     "data": {
      "text/plain": [
       "'Regular expression   A regular expression  regex or regexp      sometimes called a rational expression        is  in theoretical computer science and formal language theory   a sequence of characters that define a search pattern '"
      ]
     },
     "execution_count": 32,
     "metadata": {},
     "output_type": "execute_result"
    }
   ],
   "source": [
    "# re.sub() : 정규 표현식 표현과 일치하는 문자열을 찾아 다른 문자열로 대체\n",
    "text=\"\"\"Regular expression : A regular expression, regex or regexp[1] \n",
    "(sometimes called a rational expression)[2][3]\n",
    "is, in theoretical computer science and formal language theory, \n",
    "a sequence of characters that define a search pattern.\"\"\"\n",
    "r = re.compile(\"[^a-zA-Z]\")\n",
    "r.sub(\" \",text)"
   ]
  },
  {
   "cell_type": "code",
   "execution_count": 34,
   "id": "early-antarctica",
   "metadata": {},
   "outputs": [
    {
     "name": "stdout",
     "output_type": "stream",
     "text": [
      "['Don', 't', 'be', 'fooled', 'by', 'the', 'dark', 'sounding', 'name', 'Mr', 'Jone', 's', 'Orphanage', 'is', 'as', 'cheery', 'as', 'cheery', 'goes', 'for', 'a', 'pastry', 'shop']\n"
     ]
    }
   ],
   "source": [
    "# NLTK에서는 정규 표현식을 사용해서 단어 토큰화를 수행하는 RegexpTokenizer를 지원\n",
    "import nltk\n",
    "from nltk.tokenize import RegexpTokenizer\n",
    "tokenizer=RegexpTokenizer(\"[\\w]+\")\n",
    "print(tokenizer.tokenize(\"Don't be fooled by the dark sounding name, Mr. Jone's Orphanage is as cheery as cheery goes for a pastry shop\"))"
   ]
  }
 ],
 "metadata": {
  "kernelspec": {
   "display_name": "Python 3",
   "language": "python",
   "name": "python3"
  },
  "language_info": {
   "codemirror_mode": {
    "name": "ipython",
    "version": 3
   },
   "file_extension": ".py",
   "mimetype": "text/x-python",
   "name": "python",
   "nbconvert_exporter": "python",
   "pygments_lexer": "ipython3",
   "version": "3.8.5"
  }
 },
 "nbformat": 4,
 "nbformat_minor": 5
}
