{
 "cells": [
  {
   "cell_type": "markdown",
   "id": "tight-acoustic",
   "metadata": {},
   "source": [
    "표제어 추출 : 단어들로 부터 표제어를 찾아가는 과정, 뿌리 단어들을 찾아가서 단어의 개수를 줄일 수 있는지 판별\n",
    "ex) am, are, is => be\n",
    "\n",
    "NLTK에서는 표제어 추출을 위한 도구인 WordNetLemmatizer를 지원"
   ]
  },
  {
   "cell_type": "code",
   "execution_count": 3,
   "id": "engaged-investing",
   "metadata": {},
   "outputs": [
    {
     "name": "stdout",
     "output_type": "stream",
     "text": [
      "['policy', 'doing', 'organization', 'have', 'going', 'love', 'life', 'fly', 'dy', 'watched', 'ha', 'starting']\n"
     ]
    }
   ],
   "source": [
    "from nltk.stem import WordNetLemmatizer\n",
    "\n",
    "n = WordNetLemmatizer()\n",
    "words=['policy', 'doing', 'organization', 'have', 'going', 'love', 'lives', 'fly', 'dies', 'watched', 'has', 'starting']\n",
    "print([n.lemmatize(w) for w in words])"
   ]
  },
  {
   "cell_type": "markdown",
   "id": "assured-explanation",
   "metadata": {},
   "source": [
    "의미를 알 수 없는 dy, ha 같은 적절하지 못한 단어들이 보인다.\n",
    "=> 표제어 추출기가 본래 단어의 품사 정보를 알아야만 정확한 결과를 내기 때문"
   ]
  },
  {
   "cell_type": "code",
   "execution_count": 6,
   "id": "dimensional-retrieval",
   "metadata": {},
   "outputs": [
    {
     "name": "stdout",
     "output_type": "stream",
     "text": [
      "dy\n",
      "die\n"
     ]
    }
   ],
   "source": [
    "print(n.lemmatize(\"dies\"))\n",
    "print(n.lemmatize(\"dies\", \"v\"))"
   ]
  },
  {
   "cell_type": "markdown",
   "id": "diagnostic-plate",
   "metadata": {},
   "source": [
    "어간 추출은 표제어 추출과는 다르게 품사를 보존하지 않는다.\n",
    "=> 사전에 존재하지 않을 단어일 가능성이 있다. (단순 규칙에 기반하여 이루어지기 때문)"
   ]
  },
  {
   "cell_type": "code",
   "execution_count": 10,
   "id": "quality-mambo",
   "metadata": {},
   "outputs": [
    {
     "name": "stdout",
     "output_type": "stream",
     "text": [
      "poterstemmer : ['thi', 'wa', 'not', 'the', 'map', 'we', 'found', 'in', 'billi', 'bone', \"'s\", 'chest', ',', 'but', 'an', 'accur', 'copi', ',', 'complet', 'in', 'all', 'thing', '--', 'name', 'and', 'height', 'and', 'sound', '--', 'with', 'the', 'singl', 'except', 'of', 'the', 'red', 'cross', 'and', 'the', 'written', 'note', '.']\n",
      "LancasterStemmer : ['thi', 'was', 'not', 'the', 'map', 'we', 'found', 'in', 'bil', 'bon', \"'s\", 'chest', ',', 'but', 'an', 'acc', 'cop', ',', 'complet', 'in', 'al', 'thing', '--', 'nam', 'and', 'height', 'and', 'sound', '--', 'with', 'the', 'singl', 'exceiv', 'of', 'the', 'red', 'cross', 'and', 'the', 'writ', 'not', '.']\n"
     ]
    }
   ],
   "source": [
    "from nltk.stem import PorterStemmer\n",
    "from nltk.tokenize import word_tokenize\n",
    "from nltk.stem import LancasterStemmer\n",
    "\n",
    "poter_s = PorterStemmer()\n",
    "lancaster_s = LancasterStemmer()\n",
    "text=\"This was not the map we found in Billy Bones's chest, but an accurate copy, complete in all things--names and heights and soundings--with the single exception of the red crosses and the written notes.\"\n",
    "words = word_tokenize(text)\n",
    "print(f\"poterstemmer : {[poter_s.stem(word) for word in words]}\", end = \"\\n\\n\")\n",
    "print(f\"LancasterStemmer : {[lancaster_s.stem(word) for word in words]}\")"
   ]
  }
 ],
 "metadata": {
  "kernelspec": {
   "display_name": "Python 3",
   "language": "python",
   "name": "python3"
  },
  "language_info": {
   "codemirror_mode": {
    "name": "ipython",
    "version": 3
   },
   "file_extension": ".py",
   "mimetype": "text/x-python",
   "name": "python",
   "nbconvert_exporter": "python",
   "pygments_lexer": "ipython3",
   "version": "3.8.5"
  }
 },
 "nbformat": 4,
 "nbformat_minor": 5
}
