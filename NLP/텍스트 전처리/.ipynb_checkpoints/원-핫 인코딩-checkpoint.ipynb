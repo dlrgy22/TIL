{
 "cells": [
  {
   "cell_type": "markdown",
   "id": "italic-source",
   "metadata": {},
   "source": [
    "단어 집합 : 텍스트 데이터의 모든 단어를 중복을 허용하지 않고 모아놓은것\n",
    "정수 인코딩 : 단어 집합에 고유한 숫자를 부여\n",
    "원 핫 인코딩 : 정수 인코딩을 통하여 각 단어가 가지는 고유한 번호를 vector로 표현"
   ]
  },
  {
   "cell_type": "code",
   "execution_count": 2,
   "id": "perfect-plenty",
   "metadata": {},
   "outputs": [
    {
     "name": "stdout",
     "output_type": "stream",
     "text": [
      "['나', '는', '자연어', '처리', '를', '배운다']\n"
     ]
    }
   ],
   "source": [
    "from konlpy.tag import Okt\n",
    "from collections import defaultdict\n",
    "okt = Okt()\n",
    "text = \"나는 자연어 처리를 배운다\"\n",
    "token=okt.morphs(text)\n",
    "print(token)"
   ]
  },
  {
   "cell_type": "code",
   "execution_count": 5,
   "id": "external-studio",
   "metadata": {},
   "outputs": [
    {
     "name": "stdout",
     "output_type": "stream",
     "text": [
      "{'나': 0, '는': 1, '자연어': 2, '처리': 3, '를': 4, '배운다': 5}\n"
     ]
    }
   ],
   "source": [
    "word2idx = {}\n",
    "\n",
    "for voca in token:\n",
    "    if voca not in word2idx:\n",
    "        word2idx[voca] = len(word2idx)\n",
    "print(word2idx)"
   ]
  },
  {
   "cell_type": "code",
   "execution_count": 6,
   "id": "demonstrated-certification",
   "metadata": {},
   "outputs": [],
   "source": [
    "def one_hot_encoding(word, word2idx):\n",
    "    one_hot_vector = [0 for i in range(len(word2idx))]\n",
    "    idx = word2idx[word]\n",
    "    one_hot_vector[idx] = 1\n",
    "    return one_hot_vector"
   ]
  },
  {
   "cell_type": "code",
   "execution_count": 22,
   "id": "individual-combination",
   "metadata": {},
   "outputs": [],
   "source": [
    "import numpy as np\n",
    "\n",
    "result = []\n",
    "for word in token:\n",
    "    result.append(one_hot_encoding(word, word2idx))"
   ]
  },
  {
   "cell_type": "code",
   "execution_count": 23,
   "id": "rental-identification",
   "metadata": {},
   "outputs": [
    {
     "name": "stdout",
     "output_type": "stream",
     "text": [
      "[[1, 0, 0, 0, 0, 0], [0, 1, 0, 0, 0, 0], [0, 0, 1, 0, 0, 0], [0, 0, 0, 1, 0, 0], [0, 0, 0, 0, 1, 0], [0, 0, 0, 0, 0, 1]]\n"
     ]
    }
   ],
   "source": [
    "print(result)"
   ]
  },
  {
   "cell_type": "markdown",
   "id": "understanding-introduction",
   "metadata": {},
   "source": [
    "vocab의 사이즈가 늘어날수록 벡터를 저장하기 위해 필요한 공간이 늘어난다는 단점 (vector의 차원이 늘어난다)\n",
    "one hot vector는 단어의 유사도를 표현하지 못한다는 단점이 있다.\n",
    "=> 다차원 공간에 벡터화 하는기법 (count기반, 예측기반)"
   ]
  }
 ],
 "metadata": {
  "kernelspec": {
   "display_name": "Python 3",
   "language": "python",
   "name": "python3"
  },
  "language_info": {
   "codemirror_mode": {
    "name": "ipython",
    "version": 3
   },
   "file_extension": ".py",
   "mimetype": "text/x-python",
   "name": "python",
   "nbconvert_exporter": "python",
   "pygments_lexer": "ipython3",
   "version": "3.8.5"
  }
 },
 "nbformat": 4,
 "nbformat_minor": 5
}
