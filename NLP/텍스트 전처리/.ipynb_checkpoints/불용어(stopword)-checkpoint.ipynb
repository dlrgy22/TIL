{
 "cells": [
  {
   "cell_type": "raw",
   "id": "aerial-panic",
   "metadata": {},
   "source": [
    "유의미한 단어 토큰만을 선별하기 위해서는 큰 의미가 없는 단어 토큰(불용어)들을 제거\n",
    "ex)조사, 접미사 같은  단어들은 문장에서 자주 등장하지만 의미분석에 기여하는바가 없다.\n",
    "NLTK에서는 이러한 불용어들을 기록"
   ]
  },
  {
   "cell_type": "code",
   "execution_count": 7,
   "id": "worthy-render",
   "metadata": {},
   "outputs": [
    {
     "name": "stdout",
     "output_type": "stream",
     "text": [
      "['Family', 'is', 'not', 'an', 'important', 'thing', '.', 'It', \"'s\", 'everything', '.']\n",
      "['Family', 'important', 'thing', '.', 'It', \"'s\", 'everything', '.']\n"
     ]
    }
   ],
   "source": [
    "import nltk\n",
    "from nltk.corpus import stopwords\n",
    "from nltk.tokenize import word_tokenize\n",
    "\n",
    "example = \"Family is not an important thing. It's everything.\"\n",
    "stop_word = set(stopwords.words(\"english\"))\n",
    "word_tokens = word_tokenize(example)\n",
    "result = []\n",
    "for word in word_tokens:\n",
    "    if word not in stop_word:\n",
    "        result.append(word)\n",
    "print(word_tokens)\n",
    "print(result)"
   ]
  },
  {
   "cell_type": "markdown",
   "id": "indonesian-novel",
   "metadata": {},
   "source": [
    "한국어에서 불용어를 제거하는 방법\n",
    "=> 토큰화 이후에 조사, 접속사등을 제거하는 방법 (명사, 형용사와 같은 단어들 중에서 불용어로 제거 하고싶은 단어들이 생기면 불용어 사전에 추가)\n",
    "한국어 불용어를 제거하는 좋은 방법은 코드내에서 직접 정의하지 않고 csv파일로 정리해 놓고 이를 불러와서 사용\n",
    "https://bab2min.tistory.com/544 불용어 list"
   ]
  }
 ],
 "metadata": {
  "kernelspec": {
   "display_name": "Python 3",
   "language": "python",
   "name": "python3"
  },
  "language_info": {
   "codemirror_mode": {
    "name": "ipython",
    "version": 3
   },
   "file_extension": ".py",
   "mimetype": "text/x-python",
   "name": "python",
   "nbconvert_exporter": "python",
   "pygments_lexer": "ipython3",
   "version": "3.8.5"
  }
 },
 "nbformat": 4,
 "nbformat_minor": 5
}
