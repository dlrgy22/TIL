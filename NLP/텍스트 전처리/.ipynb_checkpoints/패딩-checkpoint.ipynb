{
 "cells": [
  {
   "cell_type": "markdown",
   "id": "relevant-barcelona",
   "metadata": {},
   "source": [
    "자연어 처리를 하다보면 데이터의 각 문장은 길이가 다를수 있다.\n",
    "컴퓨터가 데이터들을 하나의 행렬로 보고 한꺼번에 묶어서 처리하기 위해서는 길이를 맞춰야한다.\n",
    "=> padding을 통하여 처리"
   ]
  },
  {
   "cell_type": "code",
   "execution_count": 6,
   "id": "second-attack",
   "metadata": {},
   "outputs": [],
   "source": [
    "import numpy as np\n",
    "\n",
    "from nltk.tokenize import word_tokenize\n",
    "\n",
    "sentences = [['barber', 'person'], ['barber', 'good', 'person'], ['barber', 'huge', 'person'], ['knew', 'secret'], ['secret', 'kept', 'huge', 'secret'], ['huge', 'secret'], ['barber', 'kept', 'word'], ['barber', 'kept', 'word'], ['barber', 'kept', 'secret'], ['keeping', 'keeping', 'huge', 'secret', 'driving', 'barber', 'crazy'], ['barber', 'went', 'huge', 'mountain']]\n",
    "encode = [[1, 5], [1, 8, 5], [1, 3, 5], [9, 2], [2, 4, 3, 2], [3, 2], [1, 4, 6], [1, 4, 6], [1, 4, 2], [7, 7, 3, 2, 10, 1, 11], [1, 12, 3, 13]]\n"
   ]
  },
  {
   "cell_type": "code",
   "execution_count": 7,
   "id": "governmental-amino",
   "metadata": {},
   "outputs": [
    {
     "name": "stdout",
     "output_type": "stream",
     "text": [
      "7\n"
     ]
    }
   ],
   "source": [
    "max_len = (max(len(item) for item in encode))\n",
    "print(max_len)"
   ]
  },
  {
   "cell_type": "code",
   "execution_count": 8,
   "id": "advanced-broadway",
   "metadata": {},
   "outputs": [
    {
     "name": "stdout",
     "output_type": "stream",
     "text": [
      "[[ 1  5  0  0  0  0  0  0]\n",
      " [ 1  8  5  0  0  0  0  0]\n",
      " [ 1  3  5  0  0  0  0  0]\n",
      " [ 9  2  0  0  0  0  0  0]\n",
      " [ 2  4  3  2  0  0  0  0]\n",
      " [ 3  2  0  0  0  0  0  0]\n",
      " [ 1  4  6  0  0  0  0  0]\n",
      " [ 1  4  6  0  0  0  0  0]\n",
      " [ 1  4  2  0  0  0  0  0]\n",
      " [ 7  7  3  2 10  1 11  0]\n",
      " [ 1 12  3 13  0  0  0  0]]\n"
     ]
    }
   ],
   "source": [
    "# 0을 뒤로 채우는 방법, 앞으로 채우는 방법도 있다.\n",
    "for item in encode:\n",
    "    while len(item) <= max_len:\n",
    "        item.append(0)\n",
    "padding_np = np.array(encode)\n",
    "print(padding_np)"
   ]
  },
  {
   "cell_type": "markdown",
   "id": "optical-executive",
   "metadata": {},
   "source": [
    "무조건 가장 긴 데이터를 기준으로 padding하는 것이 아니라 기준점을 잡고 기준점보다 긴 문장은 데이터를 잘라버리고 짧은 문장은 padding을 통하여 길이를 맞춰주는 방법도 존재"
   ]
  }
 ],
 "metadata": {
  "kernelspec": {
   "display_name": "Python 3",
   "language": "python",
   "name": "python3"
  },
  "language_info": {
   "codemirror_mode": {
    "name": "ipython",
    "version": 3
   },
   "file_extension": ".py",
   "mimetype": "text/x-python",
   "name": "python",
   "nbconvert_exporter": "python",
   "pygments_lexer": "ipython3",
   "version": "3.8.5"
  }
 },
 "nbformat": 4,
 "nbformat_minor": 5
}
