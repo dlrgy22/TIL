{
 "cells": [
  {
   "cell_type": "markdown",
   "id": "postal-fraud",
   "metadata": {},
   "source": [
    "카운트에 기반한 통계적 접근을 사용 (SLM)\n",
    "=> 이전에 등장한 모든 단어를 고려하는 것이 아니라 일부 단어만 고려하는 접근 방법을 사용 (n)"
   ]
  },
  {
   "cell_type": "markdown",
   "id": "union-trademark",
   "metadata": {},
   "source": [
    "훈련 코퍼스에 확률을 계산하고 싶은 문장이나 단어가 없을 수 있다는 점\n",
    "=> 확률을 계산하고 싶은 문장이 길어질수록 잦고 있는 코퍼스에서 문장이 존재하지 않을 가능성이 높아진다.\n",
    "=> 따라서 특정 n개의 단어만 확인하는 N-gram모델 사용\n",
    "\n",
    "갖고 있는 코퍼스에서 n개의 단어 뭉치 단위로 끊어서 이를 하나의 토큰으로 간주"
   ]
  },
  {
   "cell_type": "markdown",
   "id": "constant-latin",
   "metadata": {},
   "source": [
    "이전의 단어들을 무조건적으로 무시하면서 생기는 문제점이 발생\n",
    "=> 의도한 문장이 작성되지 않을 수 있다, 앞부분과 뒷부분의 문맥이 연결 안되는 경우도 생길 수 있다.\n",
    "\n",
    "- 희소문제 : 모든 단어를 확인하는것 보다 희소문제가 발생할 가능성이 줄었지만 여전히 희소문제가 발생한다.\n",
    "- n을 선택하는 trade off : n의 크기가 크면 희소문제가 발생할 가능성이 커지고 n이 작아지면 이전 단어들을 잘 반영하지 못한다는 문제\n"
   ]
  }
 ],
 "metadata": {
  "kernelspec": {
   "display_name": "Python 3",
   "language": "python",
   "name": "python3"
  },
  "language_info": {
   "codemirror_mode": {
    "name": "ipython",
    "version": 3
   },
   "file_extension": ".py",
   "mimetype": "text/x-python",
   "name": "python",
   "nbconvert_exporter": "python",
   "pygments_lexer": "ipython3",
   "version": "3.8.5"
  }
 },
 "nbformat": 4,
 "nbformat_minor": 5
}
