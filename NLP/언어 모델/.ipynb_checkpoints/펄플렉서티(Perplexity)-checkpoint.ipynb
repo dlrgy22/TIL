{
 "cells": [
  {
   "cell_type": "markdown",
   "id": "respected-franchise",
   "metadata": {},
   "source": [
    "두가지 모델 A, B가 있을때 모델의 성능 비교\n",
    "- 성능을 테스트 하고자하는 테스크에 직접 투입하여 성능을 비교 => 모델의 수만큼 필요한 시간이 늘어난다. (외부평가)\n",
    "- 모델 내에서 자신의 성능을 수치화 하여 결과를 내놓는 내부평가 (펄플렉서티) => 외부평가보다 부정확하지만 빠르다."
   ]
  },
  {
   "cell_type": "markdown",
   "id": "yellow-benjamin",
   "metadata": {},
   "source": [
    "PPL : 정규화된 테스트 데이터에 대한 확률의 역수, PPL 최소화 => 문장의 확률을 최대화\n",
    "\n",
    "PPL은 선택할 수 있는 가능한 경우의수를 의미하는 분기계수, 특정시점에서 평균적으로 몇 개의 선택지를 가지고 고민하는가?\n",
    "=> 낮을수록 좋다. 더 적은 경우의수를 고민하는 것 이기때문\n"
   ]
  }
 ],
 "metadata": {
  "kernelspec": {
   "display_name": "Python 3",
   "language": "python",
   "name": "python3"
  },
  "language_info": {
   "codemirror_mode": {
    "name": "ipython",
    "version": 3
   },
   "file_extension": ".py",
   "mimetype": "text/x-python",
   "name": "python",
   "nbconvert_exporter": "python",
   "pygments_lexer": "ipython3",
   "version": "3.8.5"
  }
 },
 "nbformat": 4,
 "nbformat_minor": 5
}
