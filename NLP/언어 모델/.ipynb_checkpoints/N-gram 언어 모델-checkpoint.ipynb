{
 "cells": [
  {
   "cell_type": "markdown",
   "id": "durable-desert",
   "metadata": {},
   "source": [
    "카운트에 기반한 통계적 접근을 사용 (SLM)\n",
    "=> 이전에 등장한 모든 단어를 고려하는 것이 아니라 일부 단어만 고려하는 접근 방법을 사용 (n)"
   ]
  },
  {
   "cell_type": "markdown",
   "id": "urban-charleston",
   "metadata": {},
   "source": [
    "훈련 코퍼스에 확률을 계산하고 싶은 문장이나 단어가 없을 수 있다는 점\n",
    "=> 확률을 계산하고 싶은 문장이 길어질수록 잦고 있는 코퍼스에서 문장이 존재하지 않을 가능성이 높아진다.\n",
    "=> 따라서 특정 n개의 단어만 확인하는 N-gram모델 사용\n",
    "\n",
    "갖고 있는 코퍼스에서 n개의 단어 뭉치 단위로 끊어서 이를 하나의 토큰으로 간주"
   ]
  },
  {
   "cell_type": "markdown",
   "id": "exciting-proxy",
   "metadata": {},
   "source": [
    "이전의 단어들을 무조건적으로 무시하면서 생기는 문제점이 발생\n",
    "=> 의도한 문장이 작성되지 않을 수 있다."
   ]
  }
 ],
 "metadata": {
  "kernelspec": {
   "display_name": "Python 3",
   "language": "python",
   "name": "python3"
  },
  "language_info": {
   "codemirror_mode": {
    "name": "ipython",
    "version": 3
   },
   "file_extension": ".py",
   "mimetype": "text/x-python",
   "name": "python",
   "nbconvert_exporter": "python",
   "pygments_lexer": "ipython3",
   "version": "3.8.5"
  }
 },
 "nbformat": 4,
 "nbformat_minor": 5
}
