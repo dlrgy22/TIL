{
 "cells": [
  {
   "cell_type": "markdown",
   "id": "treated-pierce",
   "metadata": {},
   "source": [
    "단어의 표현 방법\n",
    "- 국소 표현 : 해당 단어 그 자체만 보고 특정값을 맵핑하여 단어를 표현하는 방법\n",
    "- 분산 표현 : 그 단어를 표현하고자 주변을 참고하여 단어를 표현하는 방법"
   ]
  }
 ],
 "metadata": {
  "kernelspec": {
   "display_name": "Python 3",
   "language": "python",
   "name": "python3"
  },
  "language_info": {
   "codemirror_mode": {
    "name": "ipython",
    "version": 3
   },
   "file_extension": ".py",
   "mimetype": "text/x-python",
   "name": "python",
   "nbconvert_exporter": "python",
   "pygments_lexer": "ipython3",
   "version": "3.8.5"
  }
 },
 "nbformat": 4,
 "nbformat_minor": 5
}
