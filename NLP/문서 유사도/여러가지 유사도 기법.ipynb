{
 "cells": [
  {
   "cell_type": "markdown",
   "id": "planned-crash",
   "metadata": {},
   "source": [
    "여러가지 유사도 기법 : 코사인 유사도 이외에도 여러가지 유사도 기법이 있다.\n",
    "- 유클리드 거리\n",
    "- 자카드 유사도 : 합집합에서 교집합의 비율 => 이 비율이 크다면 유사도가 높다"
   ]
  },
  {
   "cell_type": "code",
   "execution_count": 9,
   "id": "distant-answer",
   "metadata": {},
   "outputs": [
    {
     "name": "stdout",
     "output_type": "stream",
     "text": [
      "2.23606797749979\n",
      "2.0\n",
      "2.449489742783178\n"
     ]
    }
   ],
   "source": [
    "import numpy as np\n",
    "\n",
    "def dist(x, y):\n",
    "    return np.sqrt(np.sum((x - y) ** 2))\n",
    "            \n",
    "doc1 = np.array((2,3,0,1))\n",
    "doc2 = np.array((1,2,3,1))\n",
    "doc3 = np.array((2,1,2,2))\n",
    "docQ = np.array((1,1,0,1))\n",
    "\n",
    "print(dist(doc1,docQ))\n",
    "print(dist(doc2,docQ))\n",
    "print(dist(doc3,docQ))"
   ]
  },
  {
   "cell_type": "code",
   "execution_count": 13,
   "id": "manual-bangladesh",
   "metadata": {},
   "outputs": [
    {
     "name": "stdout",
     "output_type": "stream",
     "text": [
      "{'card', 'like', 'likey', 'holder', 'apple', 'everyone', 'watch', 'banana'}\n",
      "{'passport', 'love', 'you', 'apple', 'banana', 'coupon'}\n",
      "{'card', 'passport', 'like', 'likey', 'love', 'holder', 'you', 'apple', 'everyone', 'watch', 'banana', 'coupon'}\n",
      "{'banana', 'apple'}\n",
      "0.16666666666666666\n"
     ]
    }
   ],
   "source": [
    "doc1 = \"apple banana everyone like likey watch card holder\"\n",
    "doc2 = \"apple banana coupon passport love you\"\n",
    "\n",
    "\n",
    "tokenized_doc1 = set(doc1.split())\n",
    "tokenized_doc2 = set(doc2.split())\n",
    "\n",
    "print(tokenized_doc1)\n",
    "print(tokenized_doc2)\n",
    "\n",
    "union = tokenized_doc1.union(tokenized_doc2)\n",
    "intersection = tokenized_doc1.intersection(tokenized_doc2)\n",
    "\n",
    "print(union)\n",
    "print(intersection)\n",
    "\n",
    "print(len(intersection)/len(union))"
   ]
  }
 ],
 "metadata": {
  "kernelspec": {
   "display_name": "Python 3",
   "language": "python",
   "name": "python3"
  },
  "language_info": {
   "codemirror_mode": {
    "name": "ipython",
    "version": 3
   },
   "file_extension": ".py",
   "mimetype": "text/x-python",
   "name": "python",
   "nbconvert_exporter": "python",
   "pygments_lexer": "ipython3",
   "version": "3.8.5"
  }
 },
 "nbformat": 4,
 "nbformat_minor": 5
}
